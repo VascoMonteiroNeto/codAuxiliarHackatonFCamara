{
 "cells": [
  {
   "cell_type": "markdown",
   "metadata": {},
   "source": [
    "## Esse scipt tem como objetivo limpar e testar a consistência dos dados relativos as escolas publicas brasileiras, afim de deixar somente as informações que forem relevantes para o desenvolvimento da aplicação proposta no case do hackaton da FCamara.\n",
    "## Os dados são públicos e foram retirados do portal do INEP(Instituto Nacional de Estudos e Pesquisas Educacionais Anísio Teixeira)."
   ]
  },
  {
   "cell_type": "code",
   "execution_count": 1,
   "metadata": {},
   "outputs": [],
   "source": [
    "import pandas as pd\n",
    "import json\n",
    "import firebase_admin\n",
    "from firebase_admin import credentials\n",
    "from firebase_admin import firestore"
   ]
  },
  {
   "cell_type": "markdown",
   "metadata": {},
   "source": [
    "## Carregamento da tabela original"
   ]
  },
  {
   "cell_type": "code",
   "execution_count": 2,
   "metadata": {},
   "outputs": [],
   "source": [
    "listaEscolas = pd.read_csv('AnáliseTabeladalistadasescolasDetalhado.csv', error_bad_lines=False, sep=';')"
   ]
  },
  {
   "cell_type": "markdown",
   "metadata": {},
   "source": [
    "## Lista de todas as informações relativas a cada escola"
   ]
  },
  {
   "cell_type": "code",
   "execution_count": 3,
   "metadata": {},
   "outputs": [
    {
     "name": "stdout",
     "output_type": "stream",
     "text": [
      "Restrição de Atendimento\n",
      "Escola\n",
      "Código INEP\n",
      "UF\n",
      "Município\n",
      "Localização\n",
      "Localidade Diferenciada\n",
      "Categoria Administrativa\n",
      "Endereço\n",
      "Telefone\n",
      "Dependência Administrativa\n",
      "Categoria Escola Privada\n",
      "Conveniada Poder Público\n",
      "Regulamentação pelo Conselho de Educação\n",
      "Porte da Escola\n",
      "Etapas e Modalidade de Ensino Oferecidas\n",
      "Outras Ofertas Educacionais\n",
      "Latitude\n",
      "Longitude\n"
     ]
    }
   ],
   "source": [
    "for col in listaEscolas.columns:\n",
    "    print(col)"
   ]
  },
  {
   "cell_type": "code",
   "execution_count": 4,
   "metadata": {},
   "outputs": [
    {
     "data": {
      "text/html": [
       "<div>\n",
       "<style scoped>\n",
       "    .dataframe tbody tr th:only-of-type {\n",
       "        vertical-align: middle;\n",
       "    }\n",
       "\n",
       "    .dataframe tbody tr th {\n",
       "        vertical-align: top;\n",
       "    }\n",
       "\n",
       "    .dataframe thead th {\n",
       "        text-align: right;\n",
       "    }\n",
       "</style>\n",
       "<table border=\"1\" class=\"dataframe\">\n",
       "  <thead>\n",
       "    <tr style=\"text-align: right;\">\n",
       "      <th></th>\n",
       "      <th>Restrição de Atendimento</th>\n",
       "      <th>Escola</th>\n",
       "      <th>Código INEP</th>\n",
       "      <th>UF</th>\n",
       "      <th>Município</th>\n",
       "      <th>Localização</th>\n",
       "      <th>Localidade Diferenciada</th>\n",
       "      <th>Categoria Administrativa</th>\n",
       "      <th>Endereço</th>\n",
       "      <th>Telefone</th>\n",
       "      <th>Dependência Administrativa</th>\n",
       "      <th>Categoria Escola Privada</th>\n",
       "      <th>Conveniada Poder Público</th>\n",
       "      <th>Regulamentação pelo Conselho de Educação</th>\n",
       "      <th>Porte da Escola</th>\n",
       "      <th>Etapas e Modalidade de Ensino Oferecidas</th>\n",
       "      <th>Outras Ofertas Educacionais</th>\n",
       "      <th>Latitude</th>\n",
       "      <th>Longitude</th>\n",
       "    </tr>\n",
       "  </thead>\n",
       "  <tbody>\n",
       "    <tr>\n",
       "      <th>0</th>\n",
       "      <td>ESCOLA ATENDE EXCLUSIVAMENTE ALUNOS COM DEFICI...</td>\n",
       "      <td>EEEE ABNAEL MACHADO DE LIMA - CENE</td>\n",
       "      <td>11000023</td>\n",
       "      <td>RO</td>\n",
       "      <td>Porto Velho</td>\n",
       "      <td>Urbana</td>\n",
       "      <td>A escola não está em área de localização difer...</td>\n",
       "      <td>Pública</td>\n",
       "      <td>AVENIDA AMAZONAS, 6492 ZONA LESTE. TIRADENTES....</td>\n",
       "      <td>(69) 992083054</td>\n",
       "      <td>Estadual</td>\n",
       "      <td>Não Informado</td>\n",
       "      <td>Não</td>\n",
       "      <td>Não</td>\n",
       "      <td>Entre 51 e 200 matrículas de escolarização</td>\n",
       "      <td>Ensino Fundamental</td>\n",
       "      <td>Atendimento Educacional Especializado</td>\n",
       "      <td>-8.758459</td>\n",
       "      <td>-63.854011</td>\n",
       "    </tr>\n",
       "    <tr>\n",
       "      <th>1</th>\n",
       "      <td>ESCOLA EM FUNCIONAMENTO E SEM RESTRIÇÃO DE ATE...</td>\n",
       "      <td>EMEIEF PEQUENOS TALENTOS</td>\n",
       "      <td>11000040</td>\n",
       "      <td>RO</td>\n",
       "      <td>Porto Velho</td>\n",
       "      <td>Urbana</td>\n",
       "      <td>A escola não está em área de localização difer...</td>\n",
       "      <td>Pública</td>\n",
       "      <td>RUA CAETANO, 3256 PREDIO. CALADINHO. 76808-108...</td>\n",
       "      <td>(69) 32135237</td>\n",
       "      <td>Municipal</td>\n",
       "      <td>Não Informado</td>\n",
       "      <td>Não</td>\n",
       "      <td>Sim</td>\n",
       "      <td>Entre 201 e 500 matrículas de escolarização</td>\n",
       "      <td>Educação Infantil</td>\n",
       "      <td>NaN</td>\n",
       "      <td>-8.793730</td>\n",
       "      <td>-63.883919</td>\n",
       "    </tr>\n",
       "    <tr>\n",
       "      <th>2</th>\n",
       "      <td>ESCOLA EM FUNCIONAMENTO E SEM RESTRIÇÃO DE ATE...</td>\n",
       "      <td>EMEF PROF HERBERT DE ALENCAR</td>\n",
       "      <td>11000201</td>\n",
       "      <td>RO</td>\n",
       "      <td>Porto Velho</td>\n",
       "      <td>Urbana</td>\n",
       "      <td>A escola não está em área de localização difer...</td>\n",
       "      <td>Pública</td>\n",
       "      <td>RUA MANOEL LAURENTINO DE SOUZA, 1299 NOVA PORT...</td>\n",
       "      <td>(69) 32123104</td>\n",
       "      <td>Municipal</td>\n",
       "      <td>Não Informado</td>\n",
       "      <td>Não</td>\n",
       "      <td>Em Tramitação</td>\n",
       "      <td>Entre 201 e 500 matrículas de escolarização</td>\n",
       "      <td>Ensino Fundamental</td>\n",
       "      <td>NaN</td>\n",
       "      <td>-8.764006</td>\n",
       "      <td>-63.878267</td>\n",
       "    </tr>\n",
       "    <tr>\n",
       "      <th>3</th>\n",
       "      <td>ESCOLA EM FUNCIONAMENTO E SEM RESTRIÇÃO DE ATE...</td>\n",
       "      <td>COLEGIO TIRADENTES DA POLICIA MILITAR DO ESTAD...</td>\n",
       "      <td>11000260</td>\n",
       "      <td>RO</td>\n",
       "      <td>Porto Velho</td>\n",
       "      <td>Urbana</td>\n",
       "      <td>A escola não está em área de localização difer...</td>\n",
       "      <td>Pública</td>\n",
       "      <td>AVENIDA DOS IMIGRANTES, 4884 INDUSTRIAL. 76821...</td>\n",
       "      <td>(69) 32250051</td>\n",
       "      <td>Estadual</td>\n",
       "      <td>Não Informado</td>\n",
       "      <td>Não</td>\n",
       "      <td>Em Tramitação</td>\n",
       "      <td>Mais de 1000 matrículas de escolarização</td>\n",
       "      <td>Educação Infantil, Ensino Fundamental, Ensino ...</td>\n",
       "      <td>Atendimento Educacional Especializado</td>\n",
       "      <td>-8.738268</td>\n",
       "      <td>-63.879088</td>\n",
       "    </tr>\n",
       "    <tr>\n",
       "      <th>4</th>\n",
       "      <td>ESCOLA EM FUNCIONAMENTO E SEM RESTRIÇÃO DE ATE...</td>\n",
       "      <td>ESCOLA MUNICIPAL DE EDUCACAO INFANTIL MARISE C...</td>\n",
       "      <td>11000309</td>\n",
       "      <td>RO</td>\n",
       "      <td>Porto Velho</td>\n",
       "      <td>Urbana</td>\n",
       "      <td>A escola não está em área de localização difer...</td>\n",
       "      <td>Pública</td>\n",
       "      <td>RUA PIO XII, S/N PEDRINHAS. 76801-475 Porto Ve...</td>\n",
       "      <td>(69) 32243662</td>\n",
       "      <td>Municipal</td>\n",
       "      <td>Não Informado</td>\n",
       "      <td>Não</td>\n",
       "      <td>Não</td>\n",
       "      <td>Entre 201 e 500 matrículas de escolarização</td>\n",
       "      <td>Educação Infantil</td>\n",
       "      <td>Atendimento Educacional Especializado</td>\n",
       "      <td>-8.750817</td>\n",
       "      <td>-63.908701</td>\n",
       "    </tr>\n",
       "  </tbody>\n",
       "</table>\n",
       "</div>"
      ],
      "text/plain": [
       "                            Restrição de Atendimento  \\\n",
       "0  ESCOLA ATENDE EXCLUSIVAMENTE ALUNOS COM DEFICI...   \n",
       "1  ESCOLA EM FUNCIONAMENTO E SEM RESTRIÇÃO DE ATE...   \n",
       "2  ESCOLA EM FUNCIONAMENTO E SEM RESTRIÇÃO DE ATE...   \n",
       "3  ESCOLA EM FUNCIONAMENTO E SEM RESTRIÇÃO DE ATE...   \n",
       "4  ESCOLA EM FUNCIONAMENTO E SEM RESTRIÇÃO DE ATE...   \n",
       "\n",
       "                                              Escola  Código INEP  UF  \\\n",
       "0                 EEEE ABNAEL MACHADO DE LIMA - CENE     11000023  RO   \n",
       "1                           EMEIEF PEQUENOS TALENTOS     11000040  RO   \n",
       "2                       EMEF PROF HERBERT DE ALENCAR     11000201  RO   \n",
       "3  COLEGIO TIRADENTES DA POLICIA MILITAR DO ESTAD...     11000260  RO   \n",
       "4  ESCOLA MUNICIPAL DE EDUCACAO INFANTIL MARISE C...     11000309  RO   \n",
       "\n",
       "     Município Localização                            Localidade Diferenciada  \\\n",
       "0  Porto Velho      Urbana  A escola não está em área de localização difer...   \n",
       "1  Porto Velho      Urbana  A escola não está em área de localização difer...   \n",
       "2  Porto Velho      Urbana  A escola não está em área de localização difer...   \n",
       "3  Porto Velho      Urbana  A escola não está em área de localização difer...   \n",
       "4  Porto Velho      Urbana  A escola não está em área de localização difer...   \n",
       "\n",
       "  Categoria Administrativa                                           Endereço  \\\n",
       "0                  Pública  AVENIDA AMAZONAS, 6492 ZONA LESTE. TIRADENTES....   \n",
       "1                  Pública  RUA CAETANO, 3256 PREDIO. CALADINHO. 76808-108...   \n",
       "2                  Pública  RUA MANOEL LAURENTINO DE SOUZA, 1299 NOVA PORT...   \n",
       "3                  Pública  AVENIDA DOS IMIGRANTES, 4884 INDUSTRIAL. 76821...   \n",
       "4                  Pública  RUA PIO XII, S/N PEDRINHAS. 76801-475 Porto Ve...   \n",
       "\n",
       "         Telefone Dependência Administrativa Categoria Escola Privada  \\\n",
       "0  (69) 992083054                   Estadual            Não Informado   \n",
       "1   (69) 32135237                  Municipal            Não Informado   \n",
       "2   (69) 32123104                  Municipal            Não Informado   \n",
       "3   (69) 32250051                   Estadual            Não Informado   \n",
       "4   (69) 32243662                  Municipal            Não Informado   \n",
       "\n",
       "  Conveniada Poder Público Regulamentação pelo Conselho de Educação  \\\n",
       "0                      Não                                      Não   \n",
       "1                      Não                                      Sim   \n",
       "2                      Não                            Em Tramitação   \n",
       "3                      Não                            Em Tramitação   \n",
       "4                      Não                                      Não   \n",
       "\n",
       "                               Porte da Escola  \\\n",
       "0   Entre 51 e 200 matrículas de escolarização   \n",
       "1  Entre 201 e 500 matrículas de escolarização   \n",
       "2  Entre 201 e 500 matrículas de escolarização   \n",
       "3     Mais de 1000 matrículas de escolarização   \n",
       "4  Entre 201 e 500 matrículas de escolarização   \n",
       "\n",
       "            Etapas e Modalidade de Ensino Oferecidas  \\\n",
       "0                                 Ensino Fundamental   \n",
       "1                                  Educação Infantil   \n",
       "2                                 Ensino Fundamental   \n",
       "3  Educação Infantil, Ensino Fundamental, Ensino ...   \n",
       "4                                  Educação Infantil   \n",
       "\n",
       "             Outras Ofertas Educacionais  Latitude  Longitude  \n",
       "0  Atendimento Educacional Especializado -8.758459 -63.854011  \n",
       "1                                    NaN -8.793730 -63.883919  \n",
       "2                                    NaN -8.764006 -63.878267  \n",
       "3  Atendimento Educacional Especializado -8.738268 -63.879088  \n",
       "4  Atendimento Educacional Especializado -8.750817 -63.908701  "
      ]
     },
     "execution_count": 4,
     "metadata": {},
     "output_type": "execute_result"
    }
   ],
   "source": [
    "listaEscolas.head()"
   ]
  },
  {
   "cell_type": "markdown",
   "metadata": {},
   "source": [
    "## Retirada somente dos dados relevantes à aplicação"
   ]
  },
  {
   "cell_type": "code",
   "execution_count": 5,
   "metadata": {},
   "outputs": [],
   "source": [
    "listaRelData = listaEscolas[['Escola', 'UF', 'Município', 'Endereço', 'Telefone']]"
   ]
  },
  {
   "cell_type": "code",
   "execution_count": 6,
   "metadata": {},
   "outputs": [
    {
     "name": "stdout",
     "output_type": "stream",
     "text": [
      "<class 'pandas.core.frame.DataFrame'>\n",
      "RangeIndex: 171631 entries, 0 to 171630\n",
      "Data columns (total 5 columns):\n",
      " #   Column     Non-Null Count   Dtype \n",
      "---  ------     --------------   ----- \n",
      " 0   Escola     171631 non-null  object\n",
      " 1   UF         171631 non-null  object\n",
      " 2   Município  171631 non-null  object\n",
      " 3   Endereço   171631 non-null  object\n",
      " 4   Telefone   129751 non-null  object\n",
      "dtypes: object(5)\n",
      "memory usage: 6.5+ MB\n"
     ]
    }
   ],
   "source": [
    "listaRelData.info()"
   ]
  },
  {
   "cell_type": "markdown",
   "metadata": {},
   "source": [
    "## Pequeno teste de consistência dos dados: o número de unidades federativas"
   ]
  },
  {
   "cell_type": "code",
   "execution_count": 7,
   "metadata": {},
   "outputs": [
    {
     "data": {
      "text/plain": [
       "27"
      ]
     },
     "execution_count": 7,
     "metadata": {},
     "output_type": "execute_result"
    }
   ],
   "source": [
    "listaRelData['UF'].nunique()"
   ]
  },
  {
   "cell_type": "markdown",
   "metadata": {},
   "source": [
    "## Número de escolas por estado"
   ]
  },
  {
   "cell_type": "code",
   "execution_count": 8,
   "metadata": {},
   "outputs": [
    {
     "data": {
      "text/plain": [
       "SP    20195\n",
       "BA    18770\n",
       "MG    17820\n",
       "MA    12886\n",
       "PA    11538\n",
       "CE     8630\n",
       "RS     8533\n",
       "RJ     7919\n",
       "PR     7623\n",
       "PE     7466\n",
       "PI     6086\n",
       "AM     5806\n",
       "SC     5716\n",
       "PB     4778\n",
       "RN     4358\n",
       "GO     3784\n",
       "ES     3384\n",
       "AL     2867\n",
       "MT     2593\n",
       "TO     2300\n",
       "SE     1948\n",
       "AC     1691\n",
       "MS     1349\n",
       "RO     1229\n",
       "RR      848\n",
       "AP      812\n",
       "DF      702\n",
       "Name: UF, dtype: int64"
      ]
     },
     "execution_count": 8,
     "metadata": {},
     "output_type": "execute_result"
    }
   ],
   "source": [
    "listaRelData['UF'].value_counts()"
   ]
  },
  {
   "cell_type": "markdown",
   "metadata": {},
   "source": [
    "## Salvando a nova tabela"
   ]
  },
  {
   "cell_type": "code",
   "execution_count": 9,
   "metadata": {},
   "outputs": [],
   "source": [
    "listaRelData.to_csv('listaDeDadosRelevantes.csv')"
   ]
  },
  {
   "cell_type": "code",
   "execution_count": 10,
   "metadata": {},
   "outputs": [],
   "source": [
    "listaRelDataSemTelefone = listaRelData.drop('Telefone', axis=1)\n",
    "listaRelDataSemTelefone.to_csv('listaRelDataSemTelefone.csv')"
   ]
  },
  {
   "cell_type": "code",
   "execution_count": 11,
   "metadata": {},
   "outputs": [],
   "source": [
    "#Devido a limitação na inserção de entradas diária no banco, o estado é selecionado manualmente\n",
    "listaPorEstado=listaRelDataSemTelefone[listaRelDataSemTelefone['UF']=='SC']"
   ]
  },
  {
   "cell_type": "code",
   "execution_count": 12,
   "metadata": {},
   "outputs": [],
   "source": [
    "listaPorEstado=listaPorEstado.reset_index()\n"
   ]
  },
  {
   "cell_type": "code",
   "execution_count": 13,
   "metadata": {},
   "outputs": [
    {
     "data": {
      "text/html": [
       "<div>\n",
       "<style scoped>\n",
       "    .dataframe tbody tr th:only-of-type {\n",
       "        vertical-align: middle;\n",
       "    }\n",
       "\n",
       "    .dataframe tbody tr th {\n",
       "        vertical-align: top;\n",
       "    }\n",
       "\n",
       "    .dataframe thead th {\n",
       "        text-align: right;\n",
       "    }\n",
       "</style>\n",
       "<table border=\"1\" class=\"dataframe\">\n",
       "  <thead>\n",
       "    <tr style=\"text-align: right;\">\n",
       "      <th></th>\n",
       "      <th>UF</th>\n",
       "      <th>Município</th>\n",
       "      <th>Escola</th>\n",
       "      <th>Endereço</th>\n",
       "    </tr>\n",
       "  </thead>\n",
       "  <tbody>\n",
       "    <tr>\n",
       "      <th>0</th>\n",
       "      <td>SC</td>\n",
       "      <td>Florianópolis</td>\n",
       "      <td>INSTITUTO ESTADUAL DE EDUCACAO</td>\n",
       "      <td>AV MAURO RAMOS, 275 PREDIO ESCOLAR. CENTRO. 88...</td>\n",
       "    </tr>\n",
       "    <tr>\n",
       "      <th>1</th>\n",
       "      <td>SC</td>\n",
       "      <td>Florianópolis</td>\n",
       "      <td>NEIM CRISTO REDENTOR</td>\n",
       "      <td>RUA LAURA CAMINHA MEIRA, 276 PREDIO. CENTRO. 8...</td>\n",
       "    </tr>\n",
       "    <tr>\n",
       "      <th>2</th>\n",
       "      <td>SC</td>\n",
       "      <td>Florianópolis</td>\n",
       "      <td>EEB LAURO MULLER</td>\n",
       "      <td>MARECHAL GUILHERME, 134 PREDIO ESCOLAR. CENTRO...</td>\n",
       "    </tr>\n",
       "    <tr>\n",
       "      <th>3</th>\n",
       "      <td>SC</td>\n",
       "      <td>Florianópolis</td>\n",
       "      <td>EEB PROF HENRIQUE STODIECK</td>\n",
       "      <td>RUA ESTEVES JUNIOR, 65 CENTRO. 88015-130 Flori...</td>\n",
       "    </tr>\n",
       "    <tr>\n",
       "      <th>4</th>\n",
       "      <td>SC</td>\n",
       "      <td>Florianópolis</td>\n",
       "      <td>IFSC - CAMPUS FLORIANOPOLIS-CENTRO</td>\n",
       "      <td>AVENIDA MAURO RAMOS, 950 CENTRO. 88020-300 Flo...</td>\n",
       "    </tr>\n",
       "    <tr>\n",
       "      <th>...</th>\n",
       "      <td>...</td>\n",
       "      <td>...</td>\n",
       "      <td>...</td>\n",
       "      <td>...</td>\n",
       "    </tr>\n",
       "    <tr>\n",
       "      <th>5711</th>\n",
       "      <td>SC</td>\n",
       "      <td>São Cristóvão do Sul</td>\n",
       "      <td>ESCOLA DE JOVENS E ADULTOS SAO CRISTOVAO DO SUL</td>\n",
       "      <td>RUA MAXIMIANO ANTONIO DE MORAES, 212 PREDIO. C...</td>\n",
       "    </tr>\n",
       "    <tr>\n",
       "      <th>5712</th>\n",
       "      <td>SC</td>\n",
       "      <td>Camboriú</td>\n",
       "      <td>CEI PROFESSORA OTILIA SANTOS DA SILVA</td>\n",
       "      <td>RUA MANAGUA, S/N SANTA REGINA IV. SANTA REGINA...</td>\n",
       "    </tr>\n",
       "    <tr>\n",
       "      <th>5713</th>\n",
       "      <td>SC</td>\n",
       "      <td>Camboriú</td>\n",
       "      <td>CEI JUDITE DA ROCHA DALAGO</td>\n",
       "      <td>RUA CLEMENTE FELIPE DUARTE, 45 LIDIA DUARTE. 8...</td>\n",
       "    </tr>\n",
       "    <tr>\n",
       "      <th>5714</th>\n",
       "      <td>SC</td>\n",
       "      <td>Ipuaçu</td>\n",
       "      <td>EMEI KOKOJ SI</td>\n",
       "      <td>LINHA PINHALZINHO - RESERVA INDIGENA, S/N PRED...</td>\n",
       "    </tr>\n",
       "    <tr>\n",
       "      <th>5715</th>\n",
       "      <td>SC</td>\n",
       "      <td>Lages</td>\n",
       "      <td>CEIM JUDITE TEREZINHA DIAS</td>\n",
       "      <td>RUA BLUMENAU, S/N PETROPOLIS. 88505-300 Lages ...</td>\n",
       "    </tr>\n",
       "  </tbody>\n",
       "</table>\n",
       "<p>5716 rows × 4 columns</p>\n",
       "</div>"
      ],
      "text/plain": [
       "      UF             Município  \\\n",
       "0     SC         Florianópolis   \n",
       "1     SC         Florianópolis   \n",
       "2     SC         Florianópolis   \n",
       "3     SC         Florianópolis   \n",
       "4     SC         Florianópolis   \n",
       "...   ..                   ...   \n",
       "5711  SC  São Cristóvão do Sul   \n",
       "5712  SC              Camboriú   \n",
       "5713  SC              Camboriú   \n",
       "5714  SC                Ipuaçu   \n",
       "5715  SC                 Lages   \n",
       "\n",
       "                                               Escola  \\\n",
       "0                      INSTITUTO ESTADUAL DE EDUCACAO   \n",
       "1                                NEIM CRISTO REDENTOR   \n",
       "2                                    EEB LAURO MULLER   \n",
       "3                          EEB PROF HENRIQUE STODIECK   \n",
       "4                  IFSC - CAMPUS FLORIANOPOLIS-CENTRO   \n",
       "...                                               ...   \n",
       "5711  ESCOLA DE JOVENS E ADULTOS SAO CRISTOVAO DO SUL   \n",
       "5712            CEI PROFESSORA OTILIA SANTOS DA SILVA   \n",
       "5713                       CEI JUDITE DA ROCHA DALAGO   \n",
       "5714                                    EMEI KOKOJ SI   \n",
       "5715                       CEIM JUDITE TEREZINHA DIAS   \n",
       "\n",
       "                                               Endereço  \n",
       "0     AV MAURO RAMOS, 275 PREDIO ESCOLAR. CENTRO. 88...  \n",
       "1     RUA LAURA CAMINHA MEIRA, 276 PREDIO. CENTRO. 8...  \n",
       "2     MARECHAL GUILHERME, 134 PREDIO ESCOLAR. CENTRO...  \n",
       "3     RUA ESTEVES JUNIOR, 65 CENTRO. 88015-130 Flori...  \n",
       "4     AVENIDA MAURO RAMOS, 950 CENTRO. 88020-300 Flo...  \n",
       "...                                                 ...  \n",
       "5711  RUA MAXIMIANO ANTONIO DE MORAES, 212 PREDIO. C...  \n",
       "5712  RUA MANAGUA, S/N SANTA REGINA IV. SANTA REGINA...  \n",
       "5713  RUA CLEMENTE FELIPE DUARTE, 45 LIDIA DUARTE. 8...  \n",
       "5714  LINHA PINHALZINHO - RESERVA INDIGENA, S/N PRED...  \n",
       "5715  RUA BLUMENAU, S/N PETROPOLIS. 88505-300 Lages ...  \n",
       "\n",
       "[5716 rows x 4 columns]"
      ]
     },
     "execution_count": 13,
     "metadata": {},
     "output_type": "execute_result"
    }
   ],
   "source": [
    "listaPorEstadoSemTel=listaPorEstado[['UF','Município','Escola','Endereço']]\n",
    "listaPorEstadoSemTel"
   ]
  },
  {
   "cell_type": "code",
   "execution_count": 14,
   "metadata": {},
   "outputs": [],
   "source": [
    "#Inicializa o cliente firestone\n",
    "\n",
    "cred = credentials.Certificate(\"bd-escolas-firebase-adminsdk-cspez-c645135b2d.json\")\n",
    "firebase_admin.initialize_app(cred)\n",
    "\n",
    "db = firestore.client()"
   ]
  },
  {
   "cell_type": "code",
   "execution_count": 15,
   "metadata": {},
   "outputs": [
    {
     "ename": "ResourceExhausted",
     "evalue": "429 Quota exceeded.",
     "output_type": "error",
     "traceback": [
      "\u001b[0;31m---------------------------------------------------------------------------\u001b[0m",
      "\u001b[0;31m_InactiveRpcError\u001b[0m                         Traceback (most recent call last)",
      "\u001b[0;32m~/anaconda3/lib/python3.8/site-packages/google/api_core/grpc_helpers.py\u001b[0m in \u001b[0;36merror_remapped_callable\u001b[0;34m(*args, **kwargs)\u001b[0m\n\u001b[1;32m     72\u001b[0m         \u001b[0;32mtry\u001b[0m\u001b[0;34m:\u001b[0m\u001b[0;34m\u001b[0m\u001b[0;34m\u001b[0m\u001b[0m\n\u001b[0;32m---> 73\u001b[0;31m             \u001b[0;32mreturn\u001b[0m \u001b[0mcallable_\u001b[0m\u001b[0;34m(\u001b[0m\u001b[0;34m*\u001b[0m\u001b[0margs\u001b[0m\u001b[0;34m,\u001b[0m \u001b[0;34m**\u001b[0m\u001b[0mkwargs\u001b[0m\u001b[0;34m)\u001b[0m\u001b[0;34m\u001b[0m\u001b[0;34m\u001b[0m\u001b[0m\n\u001b[0m\u001b[1;32m     74\u001b[0m         \u001b[0;32mexcept\u001b[0m \u001b[0mgrpc\u001b[0m\u001b[0;34m.\u001b[0m\u001b[0mRpcError\u001b[0m \u001b[0;32mas\u001b[0m \u001b[0mexc\u001b[0m\u001b[0;34m:\u001b[0m\u001b[0;34m\u001b[0m\u001b[0;34m\u001b[0m\u001b[0m\n",
      "\u001b[0;32m~/anaconda3/lib/python3.8/site-packages/grpc/_channel.py\u001b[0m in \u001b[0;36m__call__\u001b[0;34m(self, request, timeout, metadata, credentials, wait_for_ready, compression)\u001b[0m\n\u001b[1;32m    922\u001b[0m                                       wait_for_ready, compression)\n\u001b[0;32m--> 923\u001b[0;31m         \u001b[0;32mreturn\u001b[0m \u001b[0m_end_unary_response_blocking\u001b[0m\u001b[0;34m(\u001b[0m\u001b[0mstate\u001b[0m\u001b[0;34m,\u001b[0m \u001b[0mcall\u001b[0m\u001b[0;34m,\u001b[0m \u001b[0;32mFalse\u001b[0m\u001b[0;34m,\u001b[0m \u001b[0;32mNone\u001b[0m\u001b[0;34m)\u001b[0m\u001b[0;34m\u001b[0m\u001b[0;34m\u001b[0m\u001b[0m\n\u001b[0m\u001b[1;32m    924\u001b[0m \u001b[0;34m\u001b[0m\u001b[0m\n",
      "\u001b[0;32m~/anaconda3/lib/python3.8/site-packages/grpc/_channel.py\u001b[0m in \u001b[0;36m_end_unary_response_blocking\u001b[0;34m(state, call, with_call, deadline)\u001b[0m\n\u001b[1;32m    825\u001b[0m     \u001b[0;32melse\u001b[0m\u001b[0;34m:\u001b[0m\u001b[0;34m\u001b[0m\u001b[0;34m\u001b[0m\u001b[0m\n\u001b[0;32m--> 826\u001b[0;31m         \u001b[0;32mraise\u001b[0m \u001b[0m_InactiveRpcError\u001b[0m\u001b[0;34m(\u001b[0m\u001b[0mstate\u001b[0m\u001b[0;34m)\u001b[0m\u001b[0;34m\u001b[0m\u001b[0;34m\u001b[0m\u001b[0m\n\u001b[0m\u001b[1;32m    827\u001b[0m \u001b[0;34m\u001b[0m\u001b[0m\n",
      "\u001b[0;31m_InactiveRpcError\u001b[0m: <_InactiveRpcError of RPC that terminated with:\n\tstatus = StatusCode.RESOURCE_EXHAUSTED\n\tdetails = \"Quota exceeded.\"\n\tdebug_error_string = \"{\"created\":\"@1617377123.516492212\",\"description\":\"Error received from peer ipv4:142.250.79.10:443\",\"file\":\"src/core/lib/surface/call.cc\",\"file_line\":1067,\"grpc_message\":\"Quota exceeded.\",\"grpc_status\":8}\"\n>",
      "\nThe above exception was the direct cause of the following exception:\n",
      "\u001b[0;31mResourceExhausted\u001b[0m                         Traceback (most recent call last)",
      "\u001b[0;32m<ipython-input-15-7176e9d49e9a>\u001b[0m in \u001b[0;36m<module>\u001b[0;34m\u001b[0m\n\u001b[1;32m     17\u001b[0m     }\n\u001b[1;32m     18\u001b[0m \u001b[0;34m\u001b[0m\u001b[0m\n\u001b[0;32m---> 19\u001b[0;31m     \u001b[0mUF_ref\u001b[0m\u001b[0;34m.\u001b[0m\u001b[0mcollection\u001b[0m\u001b[0;34m(\u001b[0m\u001b[0mmun\u001b[0m\u001b[0;34m)\u001b[0m\u001b[0;34m.\u001b[0m\u001b[0mdocument\u001b[0m\u001b[0;34m(\u001b[0m\u001b[0mnomeDaEscola\u001b[0m\u001b[0;34m)\u001b[0m\u001b[0;34m.\u001b[0m\u001b[0mset\u001b[0m\u001b[0;34m(\u001b[0m\u001b[0mdataEscola\u001b[0m\u001b[0;34m)\u001b[0m\u001b[0;34m\u001b[0m\u001b[0;34m\u001b[0m\u001b[0m\n\u001b[0m",
      "\u001b[0;32m~/anaconda3/lib/python3.8/site-packages/google/cloud/firestore_v1/document.py\u001b[0m in \u001b[0;36mset\u001b[0;34m(self, document_data, merge, retry, timeout)\u001b[0m\n\u001b[1;32m    165\u001b[0m         \"\"\"\n\u001b[1;32m    166\u001b[0m         \u001b[0mbatch\u001b[0m\u001b[0;34m,\u001b[0m \u001b[0mkwargs\u001b[0m \u001b[0;34m=\u001b[0m \u001b[0mself\u001b[0m\u001b[0;34m.\u001b[0m\u001b[0m_prep_set\u001b[0m\u001b[0;34m(\u001b[0m\u001b[0mdocument_data\u001b[0m\u001b[0;34m,\u001b[0m \u001b[0mmerge\u001b[0m\u001b[0;34m,\u001b[0m \u001b[0mretry\u001b[0m\u001b[0;34m,\u001b[0m \u001b[0mtimeout\u001b[0m\u001b[0;34m)\u001b[0m\u001b[0;34m\u001b[0m\u001b[0;34m\u001b[0m\u001b[0m\n\u001b[0;32m--> 167\u001b[0;31m         \u001b[0mwrite_results\u001b[0m \u001b[0;34m=\u001b[0m \u001b[0mbatch\u001b[0m\u001b[0;34m.\u001b[0m\u001b[0mcommit\u001b[0m\u001b[0;34m(\u001b[0m\u001b[0;34m**\u001b[0m\u001b[0mkwargs\u001b[0m\u001b[0;34m)\u001b[0m\u001b[0;34m\u001b[0m\u001b[0;34m\u001b[0m\u001b[0m\n\u001b[0m\u001b[1;32m    168\u001b[0m         \u001b[0;32mreturn\u001b[0m \u001b[0m_first_write_result\u001b[0m\u001b[0;34m(\u001b[0m\u001b[0mwrite_results\u001b[0m\u001b[0;34m)\u001b[0m\u001b[0;34m\u001b[0m\u001b[0;34m\u001b[0m\u001b[0m\n\u001b[1;32m    169\u001b[0m \u001b[0;34m\u001b[0m\u001b[0m\n",
      "\u001b[0;32m~/anaconda3/lib/python3.8/site-packages/google/cloud/firestore_v1/batch.py\u001b[0m in \u001b[0;36mcommit\u001b[0;34m(self, retry, timeout)\u001b[0m\n\u001b[1;32m     55\u001b[0m         \u001b[0mrequest\u001b[0m\u001b[0;34m,\u001b[0m \u001b[0mkwargs\u001b[0m \u001b[0;34m=\u001b[0m \u001b[0mself\u001b[0m\u001b[0;34m.\u001b[0m\u001b[0m_prep_commit\u001b[0m\u001b[0;34m(\u001b[0m\u001b[0mretry\u001b[0m\u001b[0;34m,\u001b[0m \u001b[0mtimeout\u001b[0m\u001b[0;34m)\u001b[0m\u001b[0;34m\u001b[0m\u001b[0;34m\u001b[0m\u001b[0m\n\u001b[1;32m     56\u001b[0m \u001b[0;34m\u001b[0m\u001b[0m\n\u001b[0;32m---> 57\u001b[0;31m         commit_response = self._client._firestore_api.commit(\n\u001b[0m\u001b[1;32m     58\u001b[0m             \u001b[0mrequest\u001b[0m\u001b[0;34m=\u001b[0m\u001b[0mrequest\u001b[0m\u001b[0;34m,\u001b[0m \u001b[0mmetadata\u001b[0m\u001b[0;34m=\u001b[0m\u001b[0mself\u001b[0m\u001b[0;34m.\u001b[0m\u001b[0m_client\u001b[0m\u001b[0;34m.\u001b[0m\u001b[0m_rpc_metadata\u001b[0m\u001b[0;34m,\u001b[0m \u001b[0;34m**\u001b[0m\u001b[0mkwargs\u001b[0m\u001b[0;34m,\u001b[0m\u001b[0;34m\u001b[0m\u001b[0;34m\u001b[0m\u001b[0m\n\u001b[1;32m     59\u001b[0m         )\n",
      "\u001b[0;32m~/anaconda3/lib/python3.8/site-packages/google/cloud/firestore_v1/services/firestore/client.py\u001b[0m in \u001b[0;36mcommit\u001b[0;34m(self, request, database, writes, retry, timeout, metadata)\u001b[0m\n\u001b[1;32m    834\u001b[0m \u001b[0;34m\u001b[0m\u001b[0m\n\u001b[1;32m    835\u001b[0m         \u001b[0;31m# Send the request.\u001b[0m\u001b[0;34m\u001b[0m\u001b[0;34m\u001b[0m\u001b[0;34m\u001b[0m\u001b[0m\n\u001b[0;32m--> 836\u001b[0;31m         \u001b[0mresponse\u001b[0m \u001b[0;34m=\u001b[0m \u001b[0mrpc\u001b[0m\u001b[0;34m(\u001b[0m\u001b[0mrequest\u001b[0m\u001b[0;34m,\u001b[0m \u001b[0mretry\u001b[0m\u001b[0;34m=\u001b[0m\u001b[0mretry\u001b[0m\u001b[0;34m,\u001b[0m \u001b[0mtimeout\u001b[0m\u001b[0;34m=\u001b[0m\u001b[0mtimeout\u001b[0m\u001b[0;34m,\u001b[0m \u001b[0mmetadata\u001b[0m\u001b[0;34m=\u001b[0m\u001b[0mmetadata\u001b[0m\u001b[0;34m,\u001b[0m\u001b[0;34m)\u001b[0m\u001b[0;34m\u001b[0m\u001b[0;34m\u001b[0m\u001b[0m\n\u001b[0m\u001b[1;32m    837\u001b[0m \u001b[0;34m\u001b[0m\u001b[0m\n\u001b[1;32m    838\u001b[0m         \u001b[0;31m# Done; return the response.\u001b[0m\u001b[0;34m\u001b[0m\u001b[0;34m\u001b[0m\u001b[0;34m\u001b[0m\u001b[0m\n",
      "\u001b[0;32m~/anaconda3/lib/python3.8/site-packages/google/api_core/gapic_v1/method.py\u001b[0m in \u001b[0;36m__call__\u001b[0;34m(self, *args, **kwargs)\u001b[0m\n\u001b[1;32m    143\u001b[0m             \u001b[0mkwargs\u001b[0m\u001b[0;34m[\u001b[0m\u001b[0;34m\"metadata\"\u001b[0m\u001b[0;34m]\u001b[0m \u001b[0;34m=\u001b[0m \u001b[0mmetadata\u001b[0m\u001b[0;34m\u001b[0m\u001b[0;34m\u001b[0m\u001b[0m\n\u001b[1;32m    144\u001b[0m \u001b[0;34m\u001b[0m\u001b[0m\n\u001b[0;32m--> 145\u001b[0;31m         \u001b[0;32mreturn\u001b[0m \u001b[0mwrapped_func\u001b[0m\u001b[0;34m(\u001b[0m\u001b[0;34m*\u001b[0m\u001b[0margs\u001b[0m\u001b[0;34m,\u001b[0m \u001b[0;34m**\u001b[0m\u001b[0mkwargs\u001b[0m\u001b[0;34m)\u001b[0m\u001b[0;34m\u001b[0m\u001b[0;34m\u001b[0m\u001b[0m\n\u001b[0m\u001b[1;32m    146\u001b[0m \u001b[0;34m\u001b[0m\u001b[0m\n\u001b[1;32m    147\u001b[0m \u001b[0;34m\u001b[0m\u001b[0m\n",
      "\u001b[0;32m~/anaconda3/lib/python3.8/site-packages/google/api_core/retry.py\u001b[0m in \u001b[0;36mretry_wrapped_func\u001b[0;34m(*args, **kwargs)\u001b[0m\n\u001b[1;32m    279\u001b[0m                 \u001b[0mself\u001b[0m\u001b[0;34m.\u001b[0m\u001b[0m_initial\u001b[0m\u001b[0;34m,\u001b[0m \u001b[0mself\u001b[0m\u001b[0;34m.\u001b[0m\u001b[0m_maximum\u001b[0m\u001b[0;34m,\u001b[0m \u001b[0mmultiplier\u001b[0m\u001b[0;34m=\u001b[0m\u001b[0mself\u001b[0m\u001b[0;34m.\u001b[0m\u001b[0m_multiplier\u001b[0m\u001b[0;34m\u001b[0m\u001b[0;34m\u001b[0m\u001b[0m\n\u001b[1;32m    280\u001b[0m             )\n\u001b[0;32m--> 281\u001b[0;31m             return retry_target(\n\u001b[0m\u001b[1;32m    282\u001b[0m                 \u001b[0mtarget\u001b[0m\u001b[0;34m,\u001b[0m\u001b[0;34m\u001b[0m\u001b[0;34m\u001b[0m\u001b[0m\n\u001b[1;32m    283\u001b[0m                 \u001b[0mself\u001b[0m\u001b[0;34m.\u001b[0m\u001b[0m_predicate\u001b[0m\u001b[0;34m,\u001b[0m\u001b[0;34m\u001b[0m\u001b[0;34m\u001b[0m\u001b[0m\n",
      "\u001b[0;32m~/anaconda3/lib/python3.8/site-packages/google/api_core/retry.py\u001b[0m in \u001b[0;36mretry_target\u001b[0;34m(target, predicate, sleep_generator, deadline, on_error)\u001b[0m\n\u001b[1;32m    182\u001b[0m     \u001b[0;32mfor\u001b[0m \u001b[0msleep\u001b[0m \u001b[0;32min\u001b[0m \u001b[0msleep_generator\u001b[0m\u001b[0;34m:\u001b[0m\u001b[0;34m\u001b[0m\u001b[0;34m\u001b[0m\u001b[0m\n\u001b[1;32m    183\u001b[0m         \u001b[0;32mtry\u001b[0m\u001b[0;34m:\u001b[0m\u001b[0;34m\u001b[0m\u001b[0;34m\u001b[0m\u001b[0m\n\u001b[0;32m--> 184\u001b[0;31m             \u001b[0;32mreturn\u001b[0m \u001b[0mtarget\u001b[0m\u001b[0;34m(\u001b[0m\u001b[0;34m)\u001b[0m\u001b[0;34m\u001b[0m\u001b[0;34m\u001b[0m\u001b[0m\n\u001b[0m\u001b[1;32m    185\u001b[0m \u001b[0;34m\u001b[0m\u001b[0m\n\u001b[1;32m    186\u001b[0m         \u001b[0;31m# pylint: disable=broad-except\u001b[0m\u001b[0;34m\u001b[0m\u001b[0;34m\u001b[0m\u001b[0;34m\u001b[0m\u001b[0m\n",
      "\u001b[0;32m~/anaconda3/lib/python3.8/site-packages/google/api_core/grpc_helpers.py\u001b[0m in \u001b[0;36merror_remapped_callable\u001b[0;34m(*args, **kwargs)\u001b[0m\n\u001b[1;32m     73\u001b[0m             \u001b[0;32mreturn\u001b[0m \u001b[0mcallable_\u001b[0m\u001b[0;34m(\u001b[0m\u001b[0;34m*\u001b[0m\u001b[0margs\u001b[0m\u001b[0;34m,\u001b[0m \u001b[0;34m**\u001b[0m\u001b[0mkwargs\u001b[0m\u001b[0;34m)\u001b[0m\u001b[0;34m\u001b[0m\u001b[0;34m\u001b[0m\u001b[0m\n\u001b[1;32m     74\u001b[0m         \u001b[0;32mexcept\u001b[0m \u001b[0mgrpc\u001b[0m\u001b[0;34m.\u001b[0m\u001b[0mRpcError\u001b[0m \u001b[0;32mas\u001b[0m \u001b[0mexc\u001b[0m\u001b[0;34m:\u001b[0m\u001b[0;34m\u001b[0m\u001b[0;34m\u001b[0m\u001b[0m\n\u001b[0;32m---> 75\u001b[0;31m             \u001b[0msix\u001b[0m\u001b[0;34m.\u001b[0m\u001b[0mraise_from\u001b[0m\u001b[0;34m(\u001b[0m\u001b[0mexceptions\u001b[0m\u001b[0;34m.\u001b[0m\u001b[0mfrom_grpc_error\u001b[0m\u001b[0;34m(\u001b[0m\u001b[0mexc\u001b[0m\u001b[0;34m)\u001b[0m\u001b[0;34m,\u001b[0m \u001b[0mexc\u001b[0m\u001b[0;34m)\u001b[0m\u001b[0;34m\u001b[0m\u001b[0;34m\u001b[0m\u001b[0m\n\u001b[0m\u001b[1;32m     76\u001b[0m \u001b[0;34m\u001b[0m\u001b[0m\n\u001b[1;32m     77\u001b[0m     \u001b[0;32mreturn\u001b[0m \u001b[0merror_remapped_callable\u001b[0m\u001b[0;34m\u001b[0m\u001b[0;34m\u001b[0m\u001b[0m\n",
      "\u001b[0;32m~/anaconda3/lib/python3.8/site-packages/six.py\u001b[0m in \u001b[0;36mraise_from\u001b[0;34m(value, from_value)\u001b[0m\n",
      "\u001b[0;31mResourceExhausted\u001b[0m: 429 Quota exceeded."
     ]
    }
   ],
   "source": [
    "dataUF = {\n",
    "            u'nome':u'Santa Catarina'\n",
    "        }\n",
    "for index, row in listaPorEstadoSemTel.iterrows():\n",
    "    \n",
    "    uf=row['UF']\n",
    "    mun=row['Município']\n",
    "    nomeDaEscola=row['Escola']\n",
    "    endereco=row['Endereço']\n",
    "\n",
    "    db.collection(u'dadosDaEscola').document(uf).set(dataUF)\n",
    "    UF_ref = db.collection(u'dadosDaEscola').document(uf)\n",
    "    \n",
    "    dataEscola = {\n",
    "        u'escola' : nomeDaEscola,\n",
    "        u'endereço': endereco\n",
    "    }\n",
    "\n",
    "    UF_ref.collection(mun).document(nomeDaEscola).set(dataEscola)"
   ]
  }
 ],
 "metadata": {
  "kernelspec": {
   "display_name": "Python 3",
   "language": "python",
   "name": "python3"
  },
  "language_info": {
   "codemirror_mode": {
    "name": "ipython",
    "version": 3
   },
   "file_extension": ".py",
   "mimetype": "text/x-python",
   "name": "python",
   "nbconvert_exporter": "python",
   "pygments_lexer": "ipython3",
   "version": "3.8.3"
  }
 },
 "nbformat": 4,
 "nbformat_minor": 4
}
