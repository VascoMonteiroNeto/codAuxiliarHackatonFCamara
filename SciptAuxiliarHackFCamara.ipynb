{
 "cells": [
  {
   "cell_type": "markdown",
   "metadata": {},
   "source": [
    "## Esse scipt tem como objetivo limpar e testar a consistência dos dados relativos as escolas publicas brasileiras, afim de deixar somente as informações que forem relevantes para o desenvolvimento da aplicação proposta no case do hackaton da FCamara.\n",
    "## Os dados são públicos e foram retirados do portal do INEP(Instituto Nacional de Estudos e Pesquisas Educacionais Anísio Teixeira)."
   ]
  },
  {
   "cell_type": "code",
   "execution_count": 1,
   "metadata": {},
   "outputs": [],
   "source": [
    "import pandas as pd\n",
    "import json\n",
    "import firebase_admin\n",
    "from firebase_admin import credentials\n",
    "from firebase_admin import firestore"
   ]
  },
  {
   "cell_type": "markdown",
   "metadata": {},
   "source": [
    "## Carregamento da tabela original"
   ]
  },
  {
   "cell_type": "code",
   "execution_count": 2,
   "metadata": {},
   "outputs": [],
   "source": [
    "listaEscolas = pd.read_csv('AnáliseTabeladalistadasescolasDetalhado.csv', error_bad_lines=False, sep=';')"
   ]
  },
  {
   "cell_type": "markdown",
   "metadata": {},
   "source": [
    "## Lista de todas as informações relativas a cada escola"
   ]
  },
  {
   "cell_type": "code",
   "execution_count": 3,
   "metadata": {},
   "outputs": [
    {
     "name": "stdout",
     "output_type": "stream",
     "text": [
      "Restrição de Atendimento\n",
      "Escola\n",
      "Código INEP\n",
      "UF\n",
      "Município\n",
      "Localização\n",
      "Localidade Diferenciada\n",
      "Categoria Administrativa\n",
      "Endereço\n",
      "Telefone\n",
      "Dependência Administrativa\n",
      "Categoria Escola Privada\n",
      "Conveniada Poder Público\n",
      "Regulamentação pelo Conselho de Educação\n",
      "Porte da Escola\n",
      "Etapas e Modalidade de Ensino Oferecidas\n",
      "Outras Ofertas Educacionais\n",
      "Latitude\n",
      "Longitude\n"
     ]
    }
   ],
   "source": [
    "for col in listaEscolas.columns:\n",
    "    print(col)"
   ]
  },
  {
   "cell_type": "code",
   "execution_count": 4,
   "metadata": {},
   "outputs": [
    {
     "data": {
      "text/html": [
       "<div>\n",
       "<style scoped>\n",
       "    .dataframe tbody tr th:only-of-type {\n",
       "        vertical-align: middle;\n",
       "    }\n",
       "\n",
       "    .dataframe tbody tr th {\n",
       "        vertical-align: top;\n",
       "    }\n",
       "\n",
       "    .dataframe thead th {\n",
       "        text-align: right;\n",
       "    }\n",
       "</style>\n",
       "<table border=\"1\" class=\"dataframe\">\n",
       "  <thead>\n",
       "    <tr style=\"text-align: right;\">\n",
       "      <th></th>\n",
       "      <th>Restrição de Atendimento</th>\n",
       "      <th>Escola</th>\n",
       "      <th>Código INEP</th>\n",
       "      <th>UF</th>\n",
       "      <th>Município</th>\n",
       "      <th>Localização</th>\n",
       "      <th>Localidade Diferenciada</th>\n",
       "      <th>Categoria Administrativa</th>\n",
       "      <th>Endereço</th>\n",
       "      <th>Telefone</th>\n",
       "      <th>Dependência Administrativa</th>\n",
       "      <th>Categoria Escola Privada</th>\n",
       "      <th>Conveniada Poder Público</th>\n",
       "      <th>Regulamentação pelo Conselho de Educação</th>\n",
       "      <th>Porte da Escola</th>\n",
       "      <th>Etapas e Modalidade de Ensino Oferecidas</th>\n",
       "      <th>Outras Ofertas Educacionais</th>\n",
       "      <th>Latitude</th>\n",
       "      <th>Longitude</th>\n",
       "    </tr>\n",
       "  </thead>\n",
       "  <tbody>\n",
       "    <tr>\n",
       "      <th>0</th>\n",
       "      <td>ESCOLA ATENDE EXCLUSIVAMENTE ALUNOS COM DEFICI...</td>\n",
       "      <td>EEEE ABNAEL MACHADO DE LIMA - CENE</td>\n",
       "      <td>11000023</td>\n",
       "      <td>RO</td>\n",
       "      <td>Porto Velho</td>\n",
       "      <td>Urbana</td>\n",
       "      <td>A escola não está em área de localização difer...</td>\n",
       "      <td>Pública</td>\n",
       "      <td>AVENIDA AMAZONAS, 6492 ZONA LESTE. TIRADENTES....</td>\n",
       "      <td>(69) 992083054</td>\n",
       "      <td>Estadual</td>\n",
       "      <td>Não Informado</td>\n",
       "      <td>Não</td>\n",
       "      <td>Não</td>\n",
       "      <td>Entre 51 e 200 matrículas de escolarização</td>\n",
       "      <td>Ensino Fundamental</td>\n",
       "      <td>Atendimento Educacional Especializado</td>\n",
       "      <td>-8.758459</td>\n",
       "      <td>-63.854011</td>\n",
       "    </tr>\n",
       "    <tr>\n",
       "      <th>1</th>\n",
       "      <td>ESCOLA EM FUNCIONAMENTO E SEM RESTRIÇÃO DE ATE...</td>\n",
       "      <td>EMEIEF PEQUENOS TALENTOS</td>\n",
       "      <td>11000040</td>\n",
       "      <td>RO</td>\n",
       "      <td>Porto Velho</td>\n",
       "      <td>Urbana</td>\n",
       "      <td>A escola não está em área de localização difer...</td>\n",
       "      <td>Pública</td>\n",
       "      <td>RUA CAETANO, 3256 PREDIO. CALADINHO. 76808-108...</td>\n",
       "      <td>(69) 32135237</td>\n",
       "      <td>Municipal</td>\n",
       "      <td>Não Informado</td>\n",
       "      <td>Não</td>\n",
       "      <td>Sim</td>\n",
       "      <td>Entre 201 e 500 matrículas de escolarização</td>\n",
       "      <td>Educação Infantil</td>\n",
       "      <td>NaN</td>\n",
       "      <td>-8.793730</td>\n",
       "      <td>-63.883919</td>\n",
       "    </tr>\n",
       "    <tr>\n",
       "      <th>2</th>\n",
       "      <td>ESCOLA EM FUNCIONAMENTO E SEM RESTRIÇÃO DE ATE...</td>\n",
       "      <td>EMEF PROF HERBERT DE ALENCAR</td>\n",
       "      <td>11000201</td>\n",
       "      <td>RO</td>\n",
       "      <td>Porto Velho</td>\n",
       "      <td>Urbana</td>\n",
       "      <td>A escola não está em área de localização difer...</td>\n",
       "      <td>Pública</td>\n",
       "      <td>RUA MANOEL LAURENTINO DE SOUZA, 1299 NOVA PORT...</td>\n",
       "      <td>(69) 32123104</td>\n",
       "      <td>Municipal</td>\n",
       "      <td>Não Informado</td>\n",
       "      <td>Não</td>\n",
       "      <td>Em Tramitação</td>\n",
       "      <td>Entre 201 e 500 matrículas de escolarização</td>\n",
       "      <td>Ensino Fundamental</td>\n",
       "      <td>NaN</td>\n",
       "      <td>-8.764006</td>\n",
       "      <td>-63.878267</td>\n",
       "    </tr>\n",
       "    <tr>\n",
       "      <th>3</th>\n",
       "      <td>ESCOLA EM FUNCIONAMENTO E SEM RESTRIÇÃO DE ATE...</td>\n",
       "      <td>COLEGIO TIRADENTES DA POLICIA MILITAR DO ESTAD...</td>\n",
       "      <td>11000260</td>\n",
       "      <td>RO</td>\n",
       "      <td>Porto Velho</td>\n",
       "      <td>Urbana</td>\n",
       "      <td>A escola não está em área de localização difer...</td>\n",
       "      <td>Pública</td>\n",
       "      <td>AVENIDA DOS IMIGRANTES, 4884 INDUSTRIAL. 76821...</td>\n",
       "      <td>(69) 32250051</td>\n",
       "      <td>Estadual</td>\n",
       "      <td>Não Informado</td>\n",
       "      <td>Não</td>\n",
       "      <td>Em Tramitação</td>\n",
       "      <td>Mais de 1000 matrículas de escolarização</td>\n",
       "      <td>Educação Infantil, Ensino Fundamental, Ensino ...</td>\n",
       "      <td>Atendimento Educacional Especializado</td>\n",
       "      <td>-8.738268</td>\n",
       "      <td>-63.879088</td>\n",
       "    </tr>\n",
       "    <tr>\n",
       "      <th>4</th>\n",
       "      <td>ESCOLA EM FUNCIONAMENTO E SEM RESTRIÇÃO DE ATE...</td>\n",
       "      <td>ESCOLA MUNICIPAL DE EDUCACAO INFANTIL MARISE C...</td>\n",
       "      <td>11000309</td>\n",
       "      <td>RO</td>\n",
       "      <td>Porto Velho</td>\n",
       "      <td>Urbana</td>\n",
       "      <td>A escola não está em área de localização difer...</td>\n",
       "      <td>Pública</td>\n",
       "      <td>RUA PIO XII, S/N PEDRINHAS. 76801-475 Porto Ve...</td>\n",
       "      <td>(69) 32243662</td>\n",
       "      <td>Municipal</td>\n",
       "      <td>Não Informado</td>\n",
       "      <td>Não</td>\n",
       "      <td>Não</td>\n",
       "      <td>Entre 201 e 500 matrículas de escolarização</td>\n",
       "      <td>Educação Infantil</td>\n",
       "      <td>Atendimento Educacional Especializado</td>\n",
       "      <td>-8.750817</td>\n",
       "      <td>-63.908701</td>\n",
       "    </tr>\n",
       "  </tbody>\n",
       "</table>\n",
       "</div>"
      ],
      "text/plain": [
       "                            Restrição de Atendimento  \\\n",
       "0  ESCOLA ATENDE EXCLUSIVAMENTE ALUNOS COM DEFICI...   \n",
       "1  ESCOLA EM FUNCIONAMENTO E SEM RESTRIÇÃO DE ATE...   \n",
       "2  ESCOLA EM FUNCIONAMENTO E SEM RESTRIÇÃO DE ATE...   \n",
       "3  ESCOLA EM FUNCIONAMENTO E SEM RESTRIÇÃO DE ATE...   \n",
       "4  ESCOLA EM FUNCIONAMENTO E SEM RESTRIÇÃO DE ATE...   \n",
       "\n",
       "                                              Escola  Código INEP  UF  \\\n",
       "0                 EEEE ABNAEL MACHADO DE LIMA - CENE     11000023  RO   \n",
       "1                           EMEIEF PEQUENOS TALENTOS     11000040  RO   \n",
       "2                       EMEF PROF HERBERT DE ALENCAR     11000201  RO   \n",
       "3  COLEGIO TIRADENTES DA POLICIA MILITAR DO ESTAD...     11000260  RO   \n",
       "4  ESCOLA MUNICIPAL DE EDUCACAO INFANTIL MARISE C...     11000309  RO   \n",
       "\n",
       "     Município Localização                            Localidade Diferenciada  \\\n",
       "0  Porto Velho      Urbana  A escola não está em área de localização difer...   \n",
       "1  Porto Velho      Urbana  A escola não está em área de localização difer...   \n",
       "2  Porto Velho      Urbana  A escola não está em área de localização difer...   \n",
       "3  Porto Velho      Urbana  A escola não está em área de localização difer...   \n",
       "4  Porto Velho      Urbana  A escola não está em área de localização difer...   \n",
       "\n",
       "  Categoria Administrativa                                           Endereço  \\\n",
       "0                  Pública  AVENIDA AMAZONAS, 6492 ZONA LESTE. TIRADENTES....   \n",
       "1                  Pública  RUA CAETANO, 3256 PREDIO. CALADINHO. 76808-108...   \n",
       "2                  Pública  RUA MANOEL LAURENTINO DE SOUZA, 1299 NOVA PORT...   \n",
       "3                  Pública  AVENIDA DOS IMIGRANTES, 4884 INDUSTRIAL. 76821...   \n",
       "4                  Pública  RUA PIO XII, S/N PEDRINHAS. 76801-475 Porto Ve...   \n",
       "\n",
       "         Telefone Dependência Administrativa Categoria Escola Privada  \\\n",
       "0  (69) 992083054                   Estadual            Não Informado   \n",
       "1   (69) 32135237                  Municipal            Não Informado   \n",
       "2   (69) 32123104                  Municipal            Não Informado   \n",
       "3   (69) 32250051                   Estadual            Não Informado   \n",
       "4   (69) 32243662                  Municipal            Não Informado   \n",
       "\n",
       "  Conveniada Poder Público Regulamentação pelo Conselho de Educação  \\\n",
       "0                      Não                                      Não   \n",
       "1                      Não                                      Sim   \n",
       "2                      Não                            Em Tramitação   \n",
       "3                      Não                            Em Tramitação   \n",
       "4                      Não                                      Não   \n",
       "\n",
       "                               Porte da Escola  \\\n",
       "0   Entre 51 e 200 matrículas de escolarização   \n",
       "1  Entre 201 e 500 matrículas de escolarização   \n",
       "2  Entre 201 e 500 matrículas de escolarização   \n",
       "3     Mais de 1000 matrículas de escolarização   \n",
       "4  Entre 201 e 500 matrículas de escolarização   \n",
       "\n",
       "            Etapas e Modalidade de Ensino Oferecidas  \\\n",
       "0                                 Ensino Fundamental   \n",
       "1                                  Educação Infantil   \n",
       "2                                 Ensino Fundamental   \n",
       "3  Educação Infantil, Ensino Fundamental, Ensino ...   \n",
       "4                                  Educação Infantil   \n",
       "\n",
       "             Outras Ofertas Educacionais  Latitude  Longitude  \n",
       "0  Atendimento Educacional Especializado -8.758459 -63.854011  \n",
       "1                                    NaN -8.793730 -63.883919  \n",
       "2                                    NaN -8.764006 -63.878267  \n",
       "3  Atendimento Educacional Especializado -8.738268 -63.879088  \n",
       "4  Atendimento Educacional Especializado -8.750817 -63.908701  "
      ]
     },
     "execution_count": 4,
     "metadata": {},
     "output_type": "execute_result"
    }
   ],
   "source": [
    "listaEscolas.head()"
   ]
  },
  {
   "cell_type": "markdown",
   "metadata": {},
   "source": [
    "## Retirada somente dos dados relevantes à aplicação"
   ]
  },
  {
   "cell_type": "code",
   "execution_count": 5,
   "metadata": {},
   "outputs": [],
   "source": [
    "listaRelData = listaEscolas[['Escola', 'UF', 'Município', 'Endereço', 'Telefone']]"
   ]
  },
  {
   "cell_type": "code",
   "execution_count": 6,
   "metadata": {},
   "outputs": [
    {
     "name": "stdout",
     "output_type": "stream",
     "text": [
      "<class 'pandas.core.frame.DataFrame'>\n",
      "RangeIndex: 171631 entries, 0 to 171630\n",
      "Data columns (total 5 columns):\n",
      " #   Column     Non-Null Count   Dtype \n",
      "---  ------     --------------   ----- \n",
      " 0   Escola     171631 non-null  object\n",
      " 1   UF         171631 non-null  object\n",
      " 2   Município  171631 non-null  object\n",
      " 3   Endereço   171631 non-null  object\n",
      " 4   Telefone   129751 non-null  object\n",
      "dtypes: object(5)\n",
      "memory usage: 6.5+ MB\n"
     ]
    }
   ],
   "source": [
    "listaRelData.info()"
   ]
  },
  {
   "cell_type": "markdown",
   "metadata": {},
   "source": [
    "## Pequeno teste de consistência dos dados: o número de unidades federativas"
   ]
  },
  {
   "cell_type": "code",
   "execution_count": 7,
   "metadata": {},
   "outputs": [
    {
     "data": {
      "text/plain": [
       "27"
      ]
     },
     "execution_count": 7,
     "metadata": {},
     "output_type": "execute_result"
    }
   ],
   "source": [
    "listaRelData['UF'].nunique()"
   ]
  },
  {
   "cell_type": "markdown",
   "metadata": {},
   "source": [
    "## Número de escolas por estado"
   ]
  },
  {
   "cell_type": "code",
   "execution_count": 8,
   "metadata": {},
   "outputs": [
    {
     "data": {
      "text/plain": [
       "SP    20195\n",
       "BA    18770\n",
       "MG    17820\n",
       "MA    12886\n",
       "PA    11538\n",
       "CE     8630\n",
       "RS     8533\n",
       "RJ     7919\n",
       "PR     7623\n",
       "PE     7466\n",
       "PI     6086\n",
       "AM     5806\n",
       "SC     5716\n",
       "PB     4778\n",
       "RN     4358\n",
       "GO     3784\n",
       "ES     3384\n",
       "AL     2867\n",
       "MT     2593\n",
       "TO     2300\n",
       "SE     1948\n",
       "AC     1691\n",
       "MS     1349\n",
       "RO     1229\n",
       "RR      848\n",
       "AP      812\n",
       "DF      702\n",
       "Name: UF, dtype: int64"
      ]
     },
     "execution_count": 8,
     "metadata": {},
     "output_type": "execute_result"
    }
   ],
   "source": [
    "listaRelData['UF'].value_counts()"
   ]
  },
  {
   "cell_type": "markdown",
   "metadata": {},
   "source": [
    "## Salvando a nova tabela"
   ]
  },
  {
   "cell_type": "code",
   "execution_count": 9,
   "metadata": {},
   "outputs": [],
   "source": [
    "listaRelData.to_csv('listaDeDadosRelevantes.csv')"
   ]
  },
  {
   "cell_type": "code",
   "execution_count": 10,
   "metadata": {},
   "outputs": [],
   "source": [
    "listaRelDataSemTelefone = listaRelData.drop('Telefone', axis=1)\n",
    "listaRelDataSemTelefone.to_csv('listaRelDataSemTelefone.csv')"
   ]
  },
  {
   "cell_type": "code",
   "execution_count": 11,
   "metadata": {},
   "outputs": [],
   "source": [
    "bahia=listaRelDataSemTelefone[listaRelDataSemTelefone['UF']=='BA']"
   ]
  },
  {
   "cell_type": "code",
   "execution_count": 12,
   "metadata": {},
   "outputs": [],
   "source": [
    "bah=bahia.reset_index()\n",
    "bah.to_csv('listaRelDataSemTelefoneBahia.csv')"
   ]
  },
  {
   "cell_type": "code",
   "execution_count": 13,
   "metadata": {},
   "outputs": [
    {
     "data": {
      "text/html": [
       "<div>\n",
       "<style scoped>\n",
       "    .dataframe tbody tr th:only-of-type {\n",
       "        vertical-align: middle;\n",
       "    }\n",
       "\n",
       "    .dataframe tbody tr th {\n",
       "        vertical-align: top;\n",
       "    }\n",
       "\n",
       "    .dataframe thead th {\n",
       "        text-align: right;\n",
       "    }\n",
       "</style>\n",
       "<table border=\"1\" class=\"dataframe\">\n",
       "  <thead>\n",
       "    <tr style=\"text-align: right;\">\n",
       "      <th></th>\n",
       "      <th>UF</th>\n",
       "      <th>Município</th>\n",
       "      <th>Escola</th>\n",
       "      <th>Endereço</th>\n",
       "    </tr>\n",
       "  </thead>\n",
       "  <tbody>\n",
       "    <tr>\n",
       "      <th>0</th>\n",
       "      <td>BA</td>\n",
       "      <td>Baianópolis</td>\n",
       "      <td>ESCOLA FREDERICO RODRIGUES DE OLIVEIRA</td>\n",
       "      <td>POVOADO VARZEAS, PREDIO. DISTRITO DE VARZEAS. ...</td>\n",
       "    </tr>\n",
       "    <tr>\n",
       "      <th>1</th>\n",
       "      <td>BA</td>\n",
       "      <td>Baianópolis</td>\n",
       "      <td>ESCOLA GETULIO VARGAS</td>\n",
       "      <td>POVOADO DE LAGOA CLARA, ZONA RURAL. 47830-000 ...</td>\n",
       "    </tr>\n",
       "    <tr>\n",
       "      <th>2</th>\n",
       "      <td>BA</td>\n",
       "      <td>Baianópolis</td>\n",
       "      <td>ESCOLA JUSCELINO KUBITSCHECK</td>\n",
       "      <td>POVOADO DE RODEADOR, ZONA RURAL. 47830-000 Bai...</td>\n",
       "    </tr>\n",
       "    <tr>\n",
       "      <th>3</th>\n",
       "      <td>BA</td>\n",
       "      <td>Baianópolis</td>\n",
       "      <td>ESCOLA JUTAHY MAGALHAES</td>\n",
       "      <td>POVOADO TABUA, 47830-000 Baianópolis - BA.</td>\n",
       "    </tr>\n",
       "    <tr>\n",
       "      <th>4</th>\n",
       "      <td>BA</td>\n",
       "      <td>Baianópolis</td>\n",
       "      <td>ESCOLA SAO SEBASTIAO- COCAL</td>\n",
       "      <td>POVOADO COCAL, 47830-000 Baianópolis - BA.</td>\n",
       "    </tr>\n",
       "    <tr>\n",
       "      <th>...</th>\n",
       "      <td>...</td>\n",
       "      <td>...</td>\n",
       "      <td>...</td>\n",
       "      <td>...</td>\n",
       "    </tr>\n",
       "    <tr>\n",
       "      <th>18765</th>\n",
       "      <td>BA</td>\n",
       "      <td>Amargosa</td>\n",
       "      <td>SEMED-ESCOLA MUNICIPAL MARIA CONSTANCIA</td>\n",
       "      <td>PASSAGEM DO LAJEDO, 0 ZONA RURAL. 45300-000 Am...</td>\n",
       "    </tr>\n",
       "    <tr>\n",
       "      <th>18766</th>\n",
       "      <td>BA</td>\n",
       "      <td>Andaraí</td>\n",
       "      <td>ESCOLA MUNICIPAL PROFESSORA DARCY PINA DANTAS</td>\n",
       "      <td>EDGAR OLIVEIRA SANTOS, 00 PREDIO. ALTO DO IBIR...</td>\n",
       "    </tr>\n",
       "    <tr>\n",
       "      <th>18767</th>\n",
       "      <td>BA</td>\n",
       "      <td>Cairu</td>\n",
       "      <td>CRECHE ESCOLA FREDERICO PEREIRA DA LUZ</td>\n",
       "      <td>RUA DO TOQUE GAMBOA, S/N GAMBOA. 45420-000 Cai...</td>\n",
       "    </tr>\n",
       "    <tr>\n",
       "      <th>18768</th>\n",
       "      <td>BA</td>\n",
       "      <td>Alagoinhas</td>\n",
       "      <td>EE - COLEGIO ESTADUAL LEONCIO PEREIRA DOS SANT...</td>\n",
       "      <td>POV. ESTEVAO, 00012 POVOADO DE ESTEVAO. 48000-...</td>\n",
       "    </tr>\n",
       "    <tr>\n",
       "      <th>18769</th>\n",
       "      <td>BA</td>\n",
       "      <td>Itaberaba</td>\n",
       "      <td>ESCOLA MUNICIPAL MUNDO DOS SABERES</td>\n",
       "      <td>RUA ROSALVO CARDOSO DA SILVA, SN URBIS. 46880-...</td>\n",
       "    </tr>\n",
       "  </tbody>\n",
       "</table>\n",
       "<p>18770 rows × 4 columns</p>\n",
       "</div>"
      ],
      "text/plain": [
       "       UF    Município                                             Escola  \\\n",
       "0      BA  Baianópolis             ESCOLA FREDERICO RODRIGUES DE OLIVEIRA   \n",
       "1      BA  Baianópolis                              ESCOLA GETULIO VARGAS   \n",
       "2      BA  Baianópolis                       ESCOLA JUSCELINO KUBITSCHECK   \n",
       "3      BA  Baianópolis                            ESCOLA JUTAHY MAGALHAES   \n",
       "4      BA  Baianópolis                        ESCOLA SAO SEBASTIAO- COCAL   \n",
       "...    ..          ...                                                ...   \n",
       "18765  BA     Amargosa            SEMED-ESCOLA MUNICIPAL MARIA CONSTANCIA   \n",
       "18766  BA      Andaraí      ESCOLA MUNICIPAL PROFESSORA DARCY PINA DANTAS   \n",
       "18767  BA        Cairu             CRECHE ESCOLA FREDERICO PEREIRA DA LUZ   \n",
       "18768  BA   Alagoinhas  EE - COLEGIO ESTADUAL LEONCIO PEREIRA DOS SANT...   \n",
       "18769  BA    Itaberaba                 ESCOLA MUNICIPAL MUNDO DOS SABERES   \n",
       "\n",
       "                                                Endereço  \n",
       "0      POVOADO VARZEAS, PREDIO. DISTRITO DE VARZEAS. ...  \n",
       "1      POVOADO DE LAGOA CLARA, ZONA RURAL. 47830-000 ...  \n",
       "2      POVOADO DE RODEADOR, ZONA RURAL. 47830-000 Bai...  \n",
       "3             POVOADO TABUA, 47830-000 Baianópolis - BA.  \n",
       "4             POVOADO COCAL, 47830-000 Baianópolis - BA.  \n",
       "...                                                  ...  \n",
       "18765  PASSAGEM DO LAJEDO, 0 ZONA RURAL. 45300-000 Am...  \n",
       "18766  EDGAR OLIVEIRA SANTOS, 00 PREDIO. ALTO DO IBIR...  \n",
       "18767  RUA DO TOQUE GAMBOA, S/N GAMBOA. 45420-000 Cai...  \n",
       "18768  POV. ESTEVAO, 00012 POVOADO DE ESTEVAO. 48000-...  \n",
       "18769  RUA ROSALVO CARDOSO DA SILVA, SN URBIS. 46880-...  \n",
       "\n",
       "[18770 rows x 4 columns]"
      ]
     },
     "execution_count": 13,
     "metadata": {},
     "output_type": "execute_result"
    }
   ],
   "source": [
    "bah1=bah[['UF','Município','Escola','Endereço']]\n",
    "bah1"
   ]
  },
  {
   "cell_type": "code",
   "execution_count": 43,
   "metadata": {},
   "outputs": [],
   "source": [
    "b=bah[25:30]\n"
   ]
  },
  {
   "cell_type": "code",
   "execution_count": 14,
   "metadata": {},
   "outputs": [],
   "source": [
    "cred = credentials.Certificate(\"bd-escolas-firebase-adminsdk-cspez-c645135b2d.json\")\n",
    "firebase_admin.initialize_app(cred)\n",
    "\n",
    "db = firestore.client()"
   ]
  },
  {
   "cell_type": "code",
   "execution_count": 45,
   "metadata": {},
   "outputs": [],
   "source": [
    "UF_ref = db.collection(u'UFs').document(u'UF')\n",
    "\n",
    "dataUF = {\n",
    "    u'UF': u'BA'\n",
    "}\n",
    "\n",
    "munAnterior=''\n",
    "\n",
    "for index, row in b.iterrows():\n",
    "    mun=row['Município']\n",
    "    nomeDaEscola=row['Escola']\n",
    "    endereco=row['Endereço']\n",
    "    \n",
    "    if mun != munAnterior:\n",
    "        dataMunicipio = {\n",
    "            u'municipio' : mun\n",
    "        }\n",
    "        UF_ref.collection(u'municipios').document(u'municipio').set(dataMunicipio)\n",
    "            \n",
    "\n",
    "    dataEscola = {\n",
    "        u'escola' : nomeDaEscola,\n",
    "        u'endereço': endereco\n",
    "    }\n",
    "    municipios_ref.collection(u'escolas').document(nomeDaEscola).set(dataEscola)\n",
    "    \n",
    "    munAnterior=mun\n",
    "\n"
   ]
  },
  {
   "cell_type": "code",
   "execution_count": 16,
   "metadata": {},
   "outputs": [],
   "source": [
    "municipios_ref = UF_ref.collection(u'municipios').document(u'municipio')\n",
    "\n",
    "escolas_ref = municipios_ref.collection(u'escolas').document(u'escola')\n",
    "\n",
    "data = {\n",
    "    u'name': u'Los Angeles',\n",
    "    u'endereço': u'CA',\n",
    "}"
   ]
  },
  {
   "cell_type": "code",
   "execution_count": null,
   "metadata": {},
   "outputs": [],
   "source": []
  }
 ],
 "metadata": {
  "kernelspec": {
   "display_name": "Python 3",
   "language": "python",
   "name": "python3"
  },
  "language_info": {
   "codemirror_mode": {
    "name": "ipython",
    "version": 3
   },
   "file_extension": ".py",
   "mimetype": "text/x-python",
   "name": "python",
   "nbconvert_exporter": "python",
   "pygments_lexer": "ipython3",
   "version": "3.8.3"
  }
 },
 "nbformat": 4,
 "nbformat_minor": 4
}
